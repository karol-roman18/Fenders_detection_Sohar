{
 "cells": [
  {
   "cell_type": "markdown",
   "metadata": {},
   "source": [
    "<span style=\"font-size: 1.5em;\">This code imports results from Predict in YOLO using a pickle file, selects the prediction per Defect_ID with the highest confidence, finds and saves corresponding cropped images of the defects and the full frame of the video at that point, and appends everything in a PDF document. The PDF requires formatting work. </span>"
   ]
  },
  {
   "cell_type": "code",
   "execution_count": 4,
   "metadata": {
    "collapsed": false,
    "jupyter": {
     "outputs_hidden": false
    },
    "pycharm": {
     "name": "#%%\n"
    },
    "tags": []
   },
   "outputs": [
    {
     "name": "stdout",
     "output_type": "stream",
     "text": [
      "C:\\Users\\s2018293031\\Toon\\Localenv\\Gitrepo\\Fenders_detection_Sohar\n"
     ]
    }
   ],
   "source": [
    "# Absolute paths to the Github repository\n",
    "# Add yours and comment others\n",
    "\n",
    "%cd C:\\Users\\s2018293031\\Toon\\Localenv\\Gitrepo\\Fenders_detection_Sohar\n",
    "#%cd /Users/kroman/Documents/SOHAR/Localenvpc11"
   ]
  },
  {
   "cell_type": "code",
   "execution_count": 206,
   "metadata": {
    "collapsed": false,
    "jupyter": {
     "outputs_hidden": false
    },
    "pycharm": {
     "name": "#%%\n"
    }
   },
   "outputs": [
    {
     "name": "stdout",
     "output_type": "stream",
     "text": [
      "Directory 'Localyolo/TestVideos/Predicted' already exists.\n"
     ]
    }
   ],
   "source": [
    "from ultralytics import YOLO\n",
    "import os\n",
    "\n",
    "# Load a pretrained YOLOv8n-cls Classify model\n",
    "# model_path = \"C:/Users/s2018293031/Toon/Localenv/Localyolo/ultralytics-main/runs/train_old/best.pt\"\n",
    "# modelbest = YOLO(model_path)\n",
    "#uncomment the two lines above and comment out two lines below\n",
    "model_path = \"Localyolo/ultralytics-main/runs/train_old/best.pt\"\n",
    "modelbest = YOLO(model_path)\n",
    "\n",
    "# Run inference on a video\n",
    "# video_path = \"C:/Users/s2018293031/Toon/Localenv/Localyolo/TestVideos/Blanco/Side2.mp4\"\n",
    "# result_path = \"C:/Users/s2018293031/Toon/Localenv/Localyolo/TestVideos/Predicted\"\n",
    "video_path = \"Localyolo/TestVideos/Blanco/Side2.mp4\"\n",
    "\n",
    "result_path = \"Localyolo/TestVideos/Predicted\"\n",
    "\n",
    "# Check if the directory exists\n",
    "if not os.path.exists(result_path):\n",
    "    # Create the directory if it doesn't exist\n",
    "    os.makedirs(result_path)\n",
    "    print(f\"Directory '{result_path}' created.\")\n",
    "else:\n",
    "    print(f\"Directory '{result_path}' already exists.\")\n"
   ]
  },
  {
   "cell_type": "code",
   "execution_count": 207,
   "metadata": {
    "collapsed": false,
    "jupyter": {
     "outputs_hidden": false
    },
    "pycharm": {
     "name": "#%%\n"
    }
   },
   "outputs": [],
   "source": [
    "import pickle\n",
    "\n",
    "# Load the Results object from the file\n",
    "with open('results.pkl', 'rb') as f:\n",
    "    results = pickle.load(f)\n",
    "\n",
    "# Now you can use the 'results' variable for further analysis or processing\n",
    "#print(results)"
   ]
  },
  {
   "cell_type": "code",
   "execution_count": 208,
   "metadata": {
    "collapsed": true,
    "jupyter": {
     "outputs_hidden": true
    }
   },
   "outputs": [],
   "source": [
    "def process_results(video_path, results):\n",
    "    cap = cv2.VideoCapture(video_path)\n",
    "    fps = cap.get(cv2.CAP_PROP_FPS)\n",
    "\n",
    "    detection_data = []\n",
    "\n",
    "    for frame_idx, result in enumerate(results):\n",
    "        frame_time = frame_idx / fps\n",
    "\n",
    "        boxes = result.boxes.xyxy\n",
    "\n",
    "        if result.boxes.conf.numel() > 0:\n",
    "            confidences = result.boxes.conf.tolist()\n",
    "        else:\n",
    "            confidences = None\n",
    "\n",
    "        if result.boxes.cls.numel() > 0:\n",
    "            classes = result.boxes.cls.tolist()\n",
    "        else:\n",
    "            classes = None\n",
    "\n",
    "        if confidences is not None and classes is not None and boxes is not None and len(boxes) > 0:\n",
    "            for box, conf, class_id in zip(boxes, confidences, classes):\n",
    "                x_min, y_min, x_max, y_max = map(float, box[:4])\n",
    "                class_name = modelbest.names[int(class_id)]\n",
    "\n",
    "                detection_data.append({\n",
    "                    \"Timestamp\": frame_time,\n",
    "                    \"Class\": class_name,\n",
    "                    \"Confidence\": conf,\n",
    "                    \"Bounding Box\": (x_min, y_min, x_max, y_max)\n",
    "                })\n",
    "\n",
    "    df = pd.DataFrame(detection_data)\n",
    "\n",
    "    df[[\"Timestamp\", \"Confidence\"]] = df[[\"Timestamp\", \"Confidence\"]].round(3)\n",
    "\n",
    "    df['Frame Number'] = (df['Timestamp'] * fps + 1).astype(int)\n",
    "\n",
    "    df.insert(0, \"Fender ID\", 1)\n",
    "    df.insert(1, \"Defect ID\", 1)\n",
    "\n",
    "    defect_id = 1\n",
    "    last_timestamp = df.iloc[0][\"Timestamp\"]\n",
    "    last_class = df.iloc[0][\"Class\"]\n",
    "\n",
    "    for index, row in df.iterrows():\n",
    "        time_difference = row[\"Timestamp\"] - last_timestamp\n",
    "        same_class = row[\"Class\"] == last_class\n",
    "\n",
    "        if time_difference > 0.15 or not same_class:\n",
    "            defect_id += 1\n",
    "        last_timestamp = row[\"Timestamp\"]\n",
    "        last_class = row[\"Class\"]\n",
    "\n",
    "        df.at[index, \"Defect ID\"] = defect_id\n",
    "\n",
    "    cap.release()\n",
    "\n",
    "    return df\n"
   ]
  },
  {
   "cell_type": "code",
   "execution_count": 209,
   "metadata": {
    "collapsed": false,
    "jupyter": {
     "outputs_hidden": false
    },
    "pycharm": {
     "name": "#%%\n"
    }
   },
   "outputs": [],
   "source": [
    "df = process_results(video_path, results)  # Replace 'video_path' with the appropriate path"
   ]
  },
  {
   "cell_type": "code",
   "execution_count": 210,
   "metadata": {
    "collapsed": false,
    "jupyter": {
     "outputs_hidden": false
    },
    "pycharm": {
     "name": "#%%\n"
    }
   },
   "outputs": [
    {
     "data": {
      "text/html": [
       "<div>\n",
       "<style scoped>\n",
       "    .dataframe tbody tr th:only-of-type {\n",
       "        vertical-align: middle;\n",
       "    }\n",
       "\n",
       "    .dataframe tbody tr th {\n",
       "        vertical-align: top;\n",
       "    }\n",
       "\n",
       "    .dataframe thead th {\n",
       "        text-align: right;\n",
       "    }\n",
       "</style>\n",
       "<table border=\"1\" class=\"dataframe\">\n",
       "  <thead>\n",
       "    <tr style=\"text-align: right;\">\n",
       "      <th></th>\n",
       "      <th>Fender ID</th>\n",
       "      <th>Defect ID</th>\n",
       "      <th>Timestamp</th>\n",
       "      <th>Class</th>\n",
       "      <th>Confidence</th>\n",
       "      <th>Bounding Box</th>\n",
       "      <th>Frame Number</th>\n",
       "    </tr>\n",
       "  </thead>\n",
       "  <tbody>\n",
       "    <tr>\n",
       "      <th>0</th>\n",
       "      <td>1</td>\n",
       "      <td>1</td>\n",
       "      <td>0.000</td>\n",
       "      <td>Missing plate</td>\n",
       "      <td>0.331</td>\n",
       "      <td>(970.6415405273438, 153.214599609375, 1009.886...</td>\n",
       "      <td>1</td>\n",
       "    </tr>\n",
       "    <tr>\n",
       "      <th>1</th>\n",
       "      <td>1</td>\n",
       "      <td>1</td>\n",
       "      <td>0.033</td>\n",
       "      <td>Missing plate</td>\n",
       "      <td>0.307</td>\n",
       "      <td>(971.4190673828125, 155.80084228515625, 1008.9...</td>\n",
       "      <td>1</td>\n",
       "    </tr>\n",
       "    <tr>\n",
       "      <th>2</th>\n",
       "      <td>1</td>\n",
       "      <td>1</td>\n",
       "      <td>0.067</td>\n",
       "      <td>Missing plate</td>\n",
       "      <td>0.303</td>\n",
       "      <td>(970.7056884765625, 156.46751403808594, 1009.9...</td>\n",
       "      <td>3</td>\n",
       "    </tr>\n",
       "    <tr>\n",
       "      <th>3</th>\n",
       "      <td>1</td>\n",
       "      <td>1</td>\n",
       "      <td>0.100</td>\n",
       "      <td>Missing plate</td>\n",
       "      <td>0.329</td>\n",
       "      <td>(971.4086303710938, 160.799560546875, 1010.206...</td>\n",
       "      <td>4</td>\n",
       "    </tr>\n",
       "    <tr>\n",
       "      <th>4</th>\n",
       "      <td>1</td>\n",
       "      <td>1</td>\n",
       "      <td>0.133</td>\n",
       "      <td>Missing plate</td>\n",
       "      <td>0.323</td>\n",
       "      <td>(972.0873413085938, 163.1854248046875, 1011.53...</td>\n",
       "      <td>4</td>\n",
       "    </tr>\n",
       "    <tr>\n",
       "      <th>5</th>\n",
       "      <td>1</td>\n",
       "      <td>1</td>\n",
       "      <td>0.200</td>\n",
       "      <td>Missing plate</td>\n",
       "      <td>0.289</td>\n",
       "      <td>(971.5328979492188, 166.89163208007812, 1014.1...</td>\n",
       "      <td>7</td>\n",
       "    </tr>\n",
       "    <tr>\n",
       "      <th>6</th>\n",
       "      <td>1</td>\n",
       "      <td>1</td>\n",
       "      <td>0.233</td>\n",
       "      <td>Missing plate</td>\n",
       "      <td>0.324</td>\n",
       "      <td>(971.883544921875, 167.9564208984375, 1016.166...</td>\n",
       "      <td>7</td>\n",
       "    </tr>\n",
       "    <tr>\n",
       "      <th>7</th>\n",
       "      <td>1</td>\n",
       "      <td>1</td>\n",
       "      <td>0.267</td>\n",
       "      <td>Missing plate</td>\n",
       "      <td>0.347</td>\n",
       "      <td>(972.5864868164062, 171.12864685058594, 1016.0...</td>\n",
       "      <td>9</td>\n",
       "    </tr>\n",
       "    <tr>\n",
       "      <th>8</th>\n",
       "      <td>1</td>\n",
       "      <td>1</td>\n",
       "      <td>0.300</td>\n",
       "      <td>Missing plate</td>\n",
       "      <td>0.369</td>\n",
       "      <td>(973.1836547851562, 171.81385803222656, 1015.9...</td>\n",
       "      <td>10</td>\n",
       "    </tr>\n",
       "    <tr>\n",
       "      <th>9</th>\n",
       "      <td>1</td>\n",
       "      <td>1</td>\n",
       "      <td>0.333</td>\n",
       "      <td>Missing plate</td>\n",
       "      <td>0.376</td>\n",
       "      <td>(973.6945190429688, 174.39891052246094, 1016.9...</td>\n",
       "      <td>10</td>\n",
       "    </tr>\n",
       "  </tbody>\n",
       "</table>\n",
       "</div>"
      ],
      "text/plain": [
       "   Fender ID  Defect ID  Timestamp          Class  Confidence  \\\n",
       "0          1          1      0.000  Missing plate       0.331   \n",
       "1          1          1      0.033  Missing plate       0.307   \n",
       "2          1          1      0.067  Missing plate       0.303   \n",
       "3          1          1      0.100  Missing plate       0.329   \n",
       "4          1          1      0.133  Missing plate       0.323   \n",
       "5          1          1      0.200  Missing plate       0.289   \n",
       "6          1          1      0.233  Missing plate       0.324   \n",
       "7          1          1      0.267  Missing plate       0.347   \n",
       "8          1          1      0.300  Missing plate       0.369   \n",
       "9          1          1      0.333  Missing plate       0.376   \n",
       "\n",
       "                                        Bounding Box  Frame Number  \n",
       "0  (970.6415405273438, 153.214599609375, 1009.886...             1  \n",
       "1  (971.4190673828125, 155.80084228515625, 1008.9...             1  \n",
       "2  (970.7056884765625, 156.46751403808594, 1009.9...             3  \n",
       "3  (971.4086303710938, 160.799560546875, 1010.206...             4  \n",
       "4  (972.0873413085938, 163.1854248046875, 1011.53...             4  \n",
       "5  (971.5328979492188, 166.89163208007812, 1014.1...             7  \n",
       "6  (971.883544921875, 167.9564208984375, 1016.166...             7  \n",
       "7  (972.5864868164062, 171.12864685058594, 1016.0...             9  \n",
       "8  (973.1836547851562, 171.81385803222656, 1015.9...            10  \n",
       "9  (973.6945190429688, 174.39891052246094, 1016.9...            10  "
      ]
     },
     "execution_count": 210,
     "metadata": {},
     "output_type": "execute_result"
    }
   ],
   "source": [
    "df.head(10)"
   ]
  },
  {
   "cell_type": "code",
   "execution_count": 211,
   "metadata": {
    "collapsed": false,
    "jupyter": {
     "outputs_hidden": false
    },
    "pycharm": {
     "name": "#%%\n"
    }
   },
   "outputs": [],
   "source": [
    "top1_per_detection = df.groupby('Defect ID').apply(lambda group: group.nlargest(1, 'Confidence')).reset_index(drop=True)\n",
    "\n",
    "#Directly apply the rounding\n",
    "top1_per_detection['Bounding Box'] = top1_per_detection['Bounding Box'].apply(lambda x: tuple(map(lambda y: round(y, 3), x)))\n"
   ]
  },
  {
   "cell_type": "code",
   "execution_count": 212,
   "metadata": {
    "collapsed": false,
    "jupyter": {
     "outputs_hidden": false
    },
    "pycharm": {
     "name": "#%%\n"
    }
   },
   "outputs": [
    {
     "data": {
      "text/html": [
       "<div>\n",
       "<style scoped>\n",
       "    .dataframe tbody tr th:only-of-type {\n",
       "        vertical-align: middle;\n",
       "    }\n",
       "\n",
       "    .dataframe tbody tr th {\n",
       "        vertical-align: top;\n",
       "    }\n",
       "\n",
       "    .dataframe thead th {\n",
       "        text-align: right;\n",
       "    }\n",
       "</style>\n",
       "<table border=\"1\" class=\"dataframe\">\n",
       "  <thead>\n",
       "    <tr style=\"text-align: right;\">\n",
       "      <th></th>\n",
       "      <th>Fender ID</th>\n",
       "      <th>Defect ID</th>\n",
       "      <th>Timestamp</th>\n",
       "      <th>Class</th>\n",
       "      <th>Confidence</th>\n",
       "      <th>Bounding Box</th>\n",
       "      <th>Frame Number</th>\n",
       "    </tr>\n",
       "  </thead>\n",
       "  <tbody>\n",
       "    <tr>\n",
       "      <th>0</th>\n",
       "      <td>1</td>\n",
       "      <td>1</td>\n",
       "      <td>3.233</td>\n",
       "      <td>Missing plate</td>\n",
       "      <td>0.604</td>\n",
       "      <td>(1091.736, 599.01, 1187.841, 874.23)</td>\n",
       "      <td>97</td>\n",
       "    </tr>\n",
       "    <tr>\n",
       "      <th>1</th>\n",
       "      <td>1</td>\n",
       "      <td>2</td>\n",
       "      <td>6.833</td>\n",
       "      <td>Missing plate</td>\n",
       "      <td>0.270</td>\n",
       "      <td>(1073.2, 337.27, 1116.022, 483.568)</td>\n",
       "      <td>205</td>\n",
       "    </tr>\n",
       "    <tr>\n",
       "      <th>2</th>\n",
       "      <td>1</td>\n",
       "      <td>3</td>\n",
       "      <td>7.000</td>\n",
       "      <td>Loose plate</td>\n",
       "      <td>0.256</td>\n",
       "      <td>(1047.994, 290.072, 1094.435, 398.946)</td>\n",
       "      <td>211</td>\n",
       "    </tr>\n",
       "    <tr>\n",
       "      <th>3</th>\n",
       "      <td>1</td>\n",
       "      <td>4</td>\n",
       "      <td>7.433</td>\n",
       "      <td>Missing plate</td>\n",
       "      <td>0.266</td>\n",
       "      <td>(1100.594, 432.737, 1147.906, 609.057)</td>\n",
       "      <td>223</td>\n",
       "    </tr>\n",
       "    <tr>\n",
       "      <th>4</th>\n",
       "      <td>1</td>\n",
       "      <td>5</td>\n",
       "      <td>7.667</td>\n",
       "      <td>Missing plate</td>\n",
       "      <td>0.255</td>\n",
       "      <td>(1114.441, 485.432, 1167.503, 668.014)</td>\n",
       "      <td>231</td>\n",
       "    </tr>\n",
       "    <tr>\n",
       "      <th>5</th>\n",
       "      <td>1</td>\n",
       "      <td>6</td>\n",
       "      <td>7.967</td>\n",
       "      <td>Missing plate</td>\n",
       "      <td>0.267</td>\n",
       "      <td>(1130.002, 552.317, 1194.187, 760.599)</td>\n",
       "      <td>240</td>\n",
       "    </tr>\n",
       "    <tr>\n",
       "      <th>6</th>\n",
       "      <td>1</td>\n",
       "      <td>7</td>\n",
       "      <td>8.833</td>\n",
       "      <td>Missing plate</td>\n",
       "      <td>0.388</td>\n",
       "      <td>(1225.125, 869.056, 1321.148, 1072.154)</td>\n",
       "      <td>265</td>\n",
       "    </tr>\n",
       "  </tbody>\n",
       "</table>\n",
       "</div>"
      ],
      "text/plain": [
       "   Fender ID  Defect ID  Timestamp          Class  Confidence  \\\n",
       "0          1          1      3.233  Missing plate       0.604   \n",
       "1          1          2      6.833  Missing plate       0.270   \n",
       "2          1          3      7.000    Loose plate       0.256   \n",
       "3          1          4      7.433  Missing plate       0.266   \n",
       "4          1          5      7.667  Missing plate       0.255   \n",
       "5          1          6      7.967  Missing plate       0.267   \n",
       "6          1          7      8.833  Missing plate       0.388   \n",
       "\n",
       "                              Bounding Box  Frame Number  \n",
       "0     (1091.736, 599.01, 1187.841, 874.23)            97  \n",
       "1      (1073.2, 337.27, 1116.022, 483.568)           205  \n",
       "2   (1047.994, 290.072, 1094.435, 398.946)           211  \n",
       "3   (1100.594, 432.737, 1147.906, 609.057)           223  \n",
       "4   (1114.441, 485.432, 1167.503, 668.014)           231  \n",
       "5   (1130.002, 552.317, 1194.187, 760.599)           240  \n",
       "6  (1225.125, 869.056, 1321.148, 1072.154)           265  "
      ]
     },
     "execution_count": 212,
     "metadata": {},
     "output_type": "execute_result"
    }
   ],
   "source": [
    "top1_per_detection.head(7)"
   ]
  },
  {
   "cell_type": "code",
   "execution_count": 213,
   "metadata": {
    "collapsed": false,
    "jupyter": {
     "outputs_hidden": false
    },
    "pycharm": {
     "name": "#%%\n"
    }
   },
   "outputs": [
    {
     "name": "stdout",
     "output_type": "stream",
     "text": [
      "Localyolo/TestVideos/Predicted/predict2\n"
     ]
    }
   ],
   "source": [
    "print(results[0].save_dir)"
   ]
  },
  {
   "cell_type": "code",
   "execution_count": 214,
   "metadata": {
    "collapsed": false,
    "jupyter": {
     "outputs_hidden": false
    },
    "pycharm": {
     "name": "#%%\n"
    }
   },
   "outputs": [
    {
     "name": "stdout",
     "output_type": "stream",
     "text": [
      "Localyolo/TestVideos/Predicted/predict2/crops/Missing plate/Side2_97.jpg\n",
      "Localyolo/TestVideos/Predicted/predict2/crops/Missing plate/Side2_205.jpg\n",
      "Localyolo/TestVideos/Predicted/predict2/crops/Loose plate/Side2_211.jpg\n",
      "Localyolo/TestVideos/Predicted/predict2/crops/Missing plate/Side2_223.jpg\n",
      "Localyolo/TestVideos/Predicted/predict2/crops/Missing plate/Side2_231.jpg\n",
      "Localyolo/TestVideos/Predicted/predict2/crops/Missing plate/Side2_240.jpg\n",
      "Localyolo/TestVideos/Predicted/predict2/crops/Missing plate/Side2_265.jpg\n"
     ]
    }
   ],
   "source": [
    "import os\n",
    "import shutil\n",
    "\n",
    "# Set the directory where the cropped images are stored\n",
    "crops_directory = os.path.join(results[0].save_dir, \"crops\")\n",
    "#print(crops_directory)\n",
    "\n",
    "# Extracting the video file name from video_path\n",
    "video_file_name = os.path.splitext(os.path.basename(video_path))[0]\n",
    "#print(video_file_name)\n",
    "\n",
    "# Create a new directory to store filtered crops\n",
    "filtered_crops_directory = os.path.join(results[0].save_dir, \"crops_filtered\")\n",
    "os.makedirs(filtered_crops_directory, exist_ok=True)\n",
    "\n",
    "for index, row in top1_per_detection.iterrows():\n",
    "    frame_number = row[\"Frame Number\"]\n",
    "    class_name = row[\"Class\"]\n",
    "\n",
    "    # Construct the file path for the cropped image in the original crops directory\n",
    "    original_image_path = os.path.join(crops_directory, class_name, f\"{video_file_name}_{frame_number}.jpg\")\n",
    "    print(original_image_path)\n",
    "    # Construct the file path for the cropped image in the new filtered crops directory\n",
    "    filtered_image_path = os.path.join(filtered_crops_directory, f\"{video_file_name}_{frame_number}.jpg\")\n",
    "    #print(filtered_image_path)  # Optional: Print the path for verification\n",
    "\n",
    "    # Check if the file exists before copying\n",
    "    if os.path.exists(original_image_path):\n",
    "        # Copy the file to the filtered crops directory\n",
    "        shutil.copy(original_image_path, filtered_image_path)\n",
    "    #sometimes there are some problems with indexing, so I also check for the next few crops, and save the first available one\n",
    "    else:\n",
    "    # Try frames between -2 and +2\n",
    "        for i in range(-2, 3):\n",
    "            next_frame_number = frame_number + i\n",
    "            next_image_path = os.path.join(crops_directory, class_name, f\"{video_file_name}_{next_frame_number}.jpg\")\n",
    "            if os.path.exists(next_image_path):\n",
    "                # Copy the file to the filtered crops directory\n",
    "                shutil.copy(next_image_path, filtered_image_path)\n",
    "                break  # Stop trying once a valid file is found\n"
   ]
  },
  {
   "cell_type": "markdown",
   "metadata": {},
   "source": [
    "<span style=\"font-size: 1.5em;\">The method above probably requires some checking for robustness, but it works for now.</span>"
   ]
  },
  {
   "cell_type": "code",
   "execution_count": 215,
   "metadata": {
    "collapsed": false,
    "jupyter": {
     "outputs_hidden": false
    },
    "pycharm": {
     "name": "#%%\n"
    }
   },
   "outputs": [
    {
     "name": "stdout",
     "output_type": "stream",
     "text": [
      "Saved frame 97 to Localyolo/TestVideos/Predicted/predict2/detection_full_frames/frame_97.jpg\n",
      "Saved frame 205 to Localyolo/TestVideos/Predicted/predict2/detection_full_frames/frame_205.jpg\n",
      "Saved frame 211 to Localyolo/TestVideos/Predicted/predict2/detection_full_frames/frame_211.jpg\n",
      "Saved frame 223 to Localyolo/TestVideos/Predicted/predict2/detection_full_frames/frame_223.jpg\n",
      "Saved frame 231 to Localyolo/TestVideos/Predicted/predict2/detection_full_frames/frame_231.jpg\n",
      "Saved frame 240 to Localyolo/TestVideos/Predicted/predict2/detection_full_frames/frame_240.jpg\n",
      "Saved frame 265 to Localyolo/TestVideos/Predicted/predict2/detection_full_frames/frame_265.jpg\n"
     ]
    }
   ],
   "source": [
    "#Code below saves frames of the full video when detections are recorded\n",
    "\n",
    "import os\n",
    "import cv2\n",
    "import pandas as pd\n",
    "\n",
    "#folder for full saved frames\n",
    "full_frames_folder_name = \"detection_full_frames\"\n",
    "video_path_boxes = \"Localyolo/TestVideos/Predicted/predict/Side2.mp4\"\n",
    "\n",
    "# Create a new directory to store full frames corresponding to detections\n",
    "full_frames_directory = os.path.join(results[0].save_dir, full_frames_folder_name)\n",
    "os.makedirs(full_frames_directory, exist_ok=True)\n",
    "\n",
    "def capture_frames(video_path, frame_numbers, save_dir):\n",
    "    cap = cv2.VideoCapture(video_path_boxes)\n",
    "    fps = cap.get(cv2.CAP_PROP_FPS)\n",
    "\n",
    "    for frame_number in frame_numbers:\n",
    "        # Set the frame number to capture\n",
    "        cap.set(cv2.CAP_PROP_POS_FRAMES, frame_number)\n",
    "\n",
    "        # Read the frame\n",
    "        ret, frame = cap.read()\n",
    "\n",
    "        if ret:\n",
    "            # Construct the file path to save the frame\n",
    "            frame_path = os.path.join(save_dir, f\"frame_{frame_number}.jpg\")\n",
    "\n",
    "            # Save the frame\n",
    "            cv2.imwrite(frame_path, frame)\n",
    "            print(f\"Saved frame {frame_number} to {frame_path}\")\n",
    "\n",
    "    cap.release()\n",
    "\n",
    "# Assuming `top1_per_detection` is already defined\n",
    "frame_numbers_to_capture = top1_per_detection[\"Frame Number\"].tolist()\n",
    "\n",
    "# Capture frames and save them in the \"detection_full_frames\" directory\n",
    "capture_frames(video_path, frame_numbers_to_capture, full_frames_directory)"
   ]
  },
  {
   "cell_type": "code",
   "execution_count": 162,
   "metadata": {
    "collapsed": false,
    "jupyter": {
     "outputs_hidden": false
    },
    "pycharm": {
     "name": "#%%\n"
    }
   },
   "outputs": [
    {
     "name": "stdout",
     "output_type": "stream",
     "text": [
      "Index(['Fender ID', 'Defect ID', 'Timestamp', 'Class', 'Confidence',\n",
      "       'Bounding Box', 'Frame Number'],\n",
      "      dtype='object')\n"
     ]
    }
   ],
   "source": [
    "print(top1_per_detection.columns)"
   ]
  },
  {
   "cell_type": "code",
   "execution_count": 163,
   "metadata": {
    "collapsed": false,
    "jupyter": {
     "outputs_hidden": false
    },
    "pycharm": {
     "name": "#%%\n"
    }
   },
   "outputs": [
    {
     "name": "stdout",
     "output_type": "stream",
     "text": [
      "Localyolo/TestVideos/Predicted/predict10\n"
     ]
    }
   ],
   "source": [
    "print(results[0].save_dir)"
   ]
  },
  {
   "cell_type": "code",
   "execution_count": 170,
   "metadata": {
    "collapsed": false,
    "jupyter": {
     "outputs_hidden": false
    },
    "pycharm": {
     "name": "#%%\n"
    }
   },
   "outputs": [],
   "source": [
    "import os\n",
    "import cv2\n",
    "import matplotlib.pyplot as plt\n",
    "from matplotlib.backends.backend_pdf import PdfPages\n",
    "from reportlab.lib.pagesizes import letter\n",
    "from reportlab.pdfgen import canvas\n",
    "from PyPDF2 import PdfMerger\n",
    "import pandas as pd\n",
    "\n",
    "# Set up PDF file\n",
    "path_topdf = results[0].save_dir\n",
    "pdf_filename = f\"{path_topdf}/detection_report_with_images.pdf\"\n",
    "\n",
    "# Check if the PDF file already exists\n",
    "if not os.path.exists(pdf_filename):\n",
    "    # Create a new PDF file if it doesn't exist\n",
    "    pdf_pages = PdfPages(pdf_filename)\n",
    "else:\n",
    "    # Open the existing PDF file in append mode\n",
    "    pdf_pages = PdfPages(pdf_filename, 'a')\n",
    "\n",
    "# Create a PdfMerger object\n",
    "merger = PdfMerger()\n",
    "\n",
    "# Iterate through each row of top1_per_detection\n",
    "for index, row in top1_per_detection.iterrows():\n",
    "    # Create a figure and axes for the table\n",
    "    fig, ax = plt.subplots(figsize=(8.5, 11))\n",
    "    ax.axis('off')  # Turn off axis labels and ticks\n",
    "\n",
    "    # Create a table from the current row of top1_per_detection and add it to the axes\n",
    "    table_data = top1_per_detection.loc[[index]].values\n",
    "    table_columns = top1_per_detection.columns\n",
    "    table = ax.table(cellText=table_data, colLabels=table_columns, cellLoc='center', loc='center')\n",
    "\n",
    "    # Style the table\n",
    "    table.auto_set_font_size(False)\n",
    "    table.set_fontsize(10)\n",
    "    table.scale(1.2, 1.2)  # Increase table size for better readability\n",
    "\n",
    "    # Adjust column widths based on content\n",
    "    table.auto_set_column_width([i for i in range(len(table_columns))])\n",
    "\n",
    "    # Save the current figure to the PDF file\n",
    "    pdf_pages.savefig(fig, bbox_inches='tight')\n",
    "    plt.close()\n",
    "\n",
    "    # Add the cropped image from crops_filtered folder\n",
    "    cropped_image_path = os.path.join(results[0].save_dir, 'crops_filtered', f\"{video_file_name}_{row['Frame Number']}.jpg\")\n",
    "    if os.path.exists(cropped_image_path):\n",
    "        img = cv2.imread(cropped_image_path)\n",
    "        plt.figure(figsize=(8.5, 11))\n",
    "        plt.imshow(cv2.cvtColor(img, cv2.COLOR_BGR2RGB))\n",
    "        plt.axis('off')\n",
    "        plt.title(\"Cropped Image\")\n",
    "        pdf_pages.savefig(bbox_inches='tight')\n",
    "        plt.close()\n",
    "\n",
    "    # Add the full image from detection_full_frames folder\n",
    "    full_image_path = os.path.join(results[0].save_dir, 'detection_full_frames', f\"frame_{row['Frame Number']}.jpg\")\n",
    "    if os.path.exists(full_image_path):\n",
    "        img = cv2.imread(full_image_path)\n",
    "        plt.figure(figsize=(8.5, 11))\n",
    "        plt.imshow(cv2.cvtColor(img, cv2.COLOR_BGR2RGB))\n",
    "        plt.axis('off')\n",
    "        plt.title(\"Full Image\")\n",
    "        pdf_pages.savefig(bbox_inches='tight')\n",
    "        plt.close()\n",
    "\n",
    "# Close the PDF file\n",
    "pdf_pages.close()\n",
    "\n",
    "# Optionally, you can add a title page to the PDF using reportlab\n",
    "title_page_filename = f\"{path_topdf}/title_page.pdf\"\n",
    "canvas_obj = canvas.Canvas(title_page_filename, pagesize=letter)\n",
    "canvas_obj.setFont(\"Helvetica\", 14)\n",
    "canvas_obj.drawCentredString(300, 700, \"Detection Report\")\n",
    "canvas_obj.save()\n",
    "\n",
    "# Create a PdfMerger object\n",
    "merger = PdfMerger()\n",
    "\n",
    "# Add the title page and dataframe to the merged PDF\n",
    "merger.append(title_page_filename)\n",
    "merger.append(pdf_filename)\n",
    "\n",
    "# Output the final merged PDF\n",
    "merged_pdf_filename = f\"{path_topdf}/final_report.pdf\"\n",
    "merger.write(merged_pdf_filename)\n",
    "merger.close()\n"
   ]
  },
  {
   "cell_type": "markdown",
   "metadata": {},
   "source": [
    "***Below, I started definying unit tests to tests that the post-processing code is doing what we expect it to do:\n",
    "However, it is not working as expected yet, so ignore these lines for now***"
   ]
  },
  {
   "cell_type": "code",
   "execution_count": 62,
   "metadata": {
    "collapsed": false,
    "jupyter": {
     "outputs_hidden": false
    },
    "pycharm": {
     "name": "#%%\n"
    }
   },
   "outputs": [
    {
     "name": "stdout",
     "output_type": "stream",
     "text": [
      "[NbConvertApp] Converting notebook post_processing.ipynb to script\n",
      "[NbConvertApp] Writing 5546 bytes to post_processing.py\n"
     ]
    }
   ],
   "source": [
    "!jupyter nbconvert --to script post_processing.ipynb"
   ]
  },
  {
   "cell_type": "code",
   "execution_count": 63,
   "metadata": {
    "collapsed": false,
    "jupyter": {
     "outputs_hidden": false
    },
    "pycharm": {
     "name": "#%%\n"
    }
   },
   "outputs": [
    {
     "name": "stderr",
     "output_type": "stream",
     "text": [
      "test_frame_number_consistency (test_detection.TestFrameNumber) ... ERROR\n",
      "\n",
      "======================================================================\n",
      "ERROR: test_frame_number_consistency (test_detection.TestFrameNumber)\n",
      "----------------------------------------------------------------------\n",
      "Traceback (most recent call last):\n",
      "  File \"/Users/kroman/Documents/SOHAR/Localenvpc11/test_detection.py\", line 24, in test_frame_number_consistency\n",
      "    df = process_results(video_path, results)\n",
      "  File \"/Users/kroman/Documents/SOHAR/Localenvpc11/post_processing.py\", line 91, in process_results\n",
      "    for index, row in df.iterrows():\n",
      "  File \"/Users/kroman/anaconda3/envs/sohar/lib/python3.9/site-packages/pandas/core/frame.py\", line 3899, in __getitem__\n",
      "    indexer = self.columns._get_indexer_strict(key, \"columns\")[1]\n",
      "  File \"/Users/kroman/anaconda3/envs/sohar/lib/python3.9/site-packages/pandas/core/indexes/base.py\", line 6114, in _get_indexer_strict\n",
      "    self._raise_if_missing(keyarr, indexer, axis_name)\n",
      "  File \"/Users/kroman/anaconda3/envs/sohar/lib/python3.9/site-packages/pandas/core/indexes/base.py\", line 6175, in _raise_if_missing\n",
      "    raise KeyError(f\"None of [{key}] are in the [{axis_name}]\")\n",
      "KeyError: \"None of [Index(['Timestamp', 'Confidence'], dtype='object')] are in the [columns]\"\n",
      "\n",
      "----------------------------------------------------------------------\n",
      "Ran 1 test in 0.018s\n",
      "\n",
      "FAILED (errors=1)\n"
     ]
    },
    {
     "name": "stdout",
     "output_type": "stream",
     "text": [
      "Some unit tests failed.\n",
      "Test test_frame_number_consistency failed.\n"
     ]
    }
   ],
   "source": [
    "import unittest\n",
    "from test_detection import *\n",
    "\n",
    "# Print a message indicating whether the tests passed or failed\n",
    "try:\n",
    "    from test_detection import TestFrameNumber\n",
    "    suite = unittest.TestLoader().loadTestsFromTestCase(TestFrameNumber)\n",
    "    result = unittest.TextTestRunner(verbosity=4).run(suite)\n",
    "\n",
    "    if not result.errors and not result.failures:\n",
    "        print(\"All unit tests passed!\")\n",
    "    else:\n",
    "        print(\"Some unit tests failed.\")\n",
    "        for test_case, traceback in result.failures + result.errors:\n",
    "            test_name = str(test_case).split(' ')[0]\n",
    "            print(f\"Test {test_name} failed.\")\n",
    "except ImportError:\n",
    "    print(\"Unit tests were not executed.\")\n"
   ]
  }
 ],
 "metadata": {
  "kernelspec": {
   "display_name": "Python 3 (ipykernel)",
   "language": "python",
   "name": "python3"
  },
  "language_info": {
   "codemirror_mode": {
    "name": "ipython",
    "version": 3
   },
   "file_extension": ".py",
   "mimetype": "text/x-python",
   "name": "python",
   "nbconvert_exporter": "python",
   "pygments_lexer": "ipython3",
   "version": "3.10.13"
  }
 },
 "nbformat": 4,
 "nbformat_minor": 4
}
